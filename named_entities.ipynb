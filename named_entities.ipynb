{
 "cells": [
  {
   "attachments": {},
   "cell_type": "markdown",
   "metadata": {},
   "source": [
    "#### Немного об именнованных сущностях \n",
    "\n",
    "https://habr.com/ru/post/531940/"
   ]
  },
  {
   "cell_type": "code",
   "execution_count": 1,
   "metadata": {},
   "outputs": [],
   "source": [
    "import ru_core_news_lg\n",
    "import spacy as sp\n",
    "\n",
    "from spacy.symbols import ORTH, LEMMA\n",
    "from spacy.tokens.doc import Doc\n",
    "from spacy.vocab import Vocab\n",
    "from spacy.matcher import Matcher\n",
    "\n",
    "from spacy import displacy\n",
    "from IPython.display import Image\n",
    "\n",
    "from spacy.language import Language\n",
    "from spacy_langdetect import LanguageDetector\n",
    "\n",
    "nlp = sp.load('ru_core_news_lg')"
   ]
  },
  {
   "cell_type": "code",
   "execution_count": 13,
   "metadata": {},
   "outputs": [
    {
     "data": {
      "text/html": [
       "<span class=\"tex2jax_ignore\"><svg xmlns=\"http://www.w3.org/2000/svg\" xmlns:xlink=\"http://www.w3.org/1999/xlink\" xml:lang=\"ru\" id=\"12976cd17603430d9208fb0d7f7c89af-0\" class=\"displacy\" width=\"925\" height=\"224.5\" direction=\"ltr\" style=\"max-width: none; height: 224.5px; color: #000000; background: #ffffff; font-family: Arial; direction: ltr\">\n",
       "<text class=\"displacy-token\" fill=\"currentColor\" text-anchor=\"middle\" y=\"134.5\">\n",
       "    <tspan class=\"displacy-word\" fill=\"currentColor\" x=\"50\">Я</tspan>\n",
       "    <tspan class=\"displacy-tag\" dy=\"2em\" fill=\"currentColor\" x=\"50\">PRON</tspan>\n",
       "</text>\n",
       "\n",
       "<text class=\"displacy-token\" fill=\"currentColor\" text-anchor=\"middle\" y=\"134.5\">\n",
       "    <tspan class=\"displacy-word\" fill=\"currentColor\" x=\"225\">хочу</tspan>\n",
       "    <tspan class=\"displacy-tag\" dy=\"2em\" fill=\"currentColor\" x=\"225\">VERB</tspan>\n",
       "</text>\n",
       "\n",
       "<text class=\"displacy-token\" fill=\"currentColor\" text-anchor=\"middle\" y=\"134.5\">\n",
       "    <tspan class=\"displacy-word\" fill=\"currentColor\" x=\"400\">уйти</tspan>\n",
       "    <tspan class=\"displacy-tag\" dy=\"2em\" fill=\"currentColor\" x=\"400\">VERB</tspan>\n",
       "</text>\n",
       "\n",
       "<text class=\"displacy-token\" fill=\"currentColor\" text-anchor=\"middle\" y=\"134.5\">\n",
       "    <tspan class=\"displacy-word\" fill=\"currentColor\" x=\"575\">спать</tspan>\n",
       "    <tspan class=\"displacy-tag\" dy=\"2em\" fill=\"currentColor\" x=\"575\">VERB</tspan>\n",
       "</text>\n",
       "\n",
       "<text class=\"displacy-token\" fill=\"currentColor\" text-anchor=\"middle\" y=\"134.5\">\n",
       "    <tspan class=\"displacy-word\" fill=\"currentColor\" x=\"750\">пораньше.</tspan>\n",
       "    <tspan class=\"displacy-tag\" dy=\"2em\" fill=\"currentColor\" x=\"750\">ADV</tspan>\n",
       "</text>\n",
       "\n",
       "<g class=\"displacy-arrow\">\n",
       "    <path class=\"displacy-arc\" id=\"arrow-12976cd17603430d9208fb0d7f7c89af-0-0\" stroke-width=\"2px\" d=\"M70,89.5 C70,2.0 225.0,2.0 225.0,89.5\" fill=\"none\" stroke=\"currentColor\"/>\n",
       "    <text dy=\"1.25em\" style=\"font-size: 0.8em; letter-spacing: 1px\">\n",
       "        <textPath xlink:href=\"#arrow-12976cd17603430d9208fb0d7f7c89af-0-0\" class=\"displacy-label\" startOffset=\"50%\" side=\"left\" fill=\"currentColor\" text-anchor=\"middle\">nsubj</textPath>\n",
       "    </text>\n",
       "    <path class=\"displacy-arrowhead\" d=\"M70,91.5 L62,79.5 78,79.5\" fill=\"currentColor\"/>\n",
       "</g>\n",
       "\n",
       "<g class=\"displacy-arrow\">\n",
       "    <path class=\"displacy-arc\" id=\"arrow-12976cd17603430d9208fb0d7f7c89af-0-1\" stroke-width=\"2px\" d=\"M245,89.5 C245,2.0 400.0,2.0 400.0,89.5\" fill=\"none\" stroke=\"currentColor\"/>\n",
       "    <text dy=\"1.25em\" style=\"font-size: 0.8em; letter-spacing: 1px\">\n",
       "        <textPath xlink:href=\"#arrow-12976cd17603430d9208fb0d7f7c89af-0-1\" class=\"displacy-label\" startOffset=\"50%\" side=\"left\" fill=\"currentColor\" text-anchor=\"middle\">xcomp</textPath>\n",
       "    </text>\n",
       "    <path class=\"displacy-arrowhead\" d=\"M400.0,91.5 L408.0,79.5 392.0,79.5\" fill=\"currentColor\"/>\n",
       "</g>\n",
       "\n",
       "<g class=\"displacy-arrow\">\n",
       "    <path class=\"displacy-arc\" id=\"arrow-12976cd17603430d9208fb0d7f7c89af-0-2\" stroke-width=\"2px\" d=\"M420,89.5 C420,2.0 575.0,2.0 575.0,89.5\" fill=\"none\" stroke=\"currentColor\"/>\n",
       "    <text dy=\"1.25em\" style=\"font-size: 0.8em; letter-spacing: 1px\">\n",
       "        <textPath xlink:href=\"#arrow-12976cd17603430d9208fb0d7f7c89af-0-2\" class=\"displacy-label\" startOffset=\"50%\" side=\"left\" fill=\"currentColor\" text-anchor=\"middle\">xcomp</textPath>\n",
       "    </text>\n",
       "    <path class=\"displacy-arrowhead\" d=\"M575.0,91.5 L583.0,79.5 567.0,79.5\" fill=\"currentColor\"/>\n",
       "</g>\n",
       "\n",
       "<g class=\"displacy-arrow\">\n",
       "    <path class=\"displacy-arc\" id=\"arrow-12976cd17603430d9208fb0d7f7c89af-0-3\" stroke-width=\"2px\" d=\"M595,89.5 C595,2.0 750.0,2.0 750.0,89.5\" fill=\"none\" stroke=\"currentColor\"/>\n",
       "    <text dy=\"1.25em\" style=\"font-size: 0.8em; letter-spacing: 1px\">\n",
       "        <textPath xlink:href=\"#arrow-12976cd17603430d9208fb0d7f7c89af-0-3\" class=\"displacy-label\" startOffset=\"50%\" side=\"left\" fill=\"currentColor\" text-anchor=\"middle\">advmod</textPath>\n",
       "    </text>\n",
       "    <path class=\"displacy-arrowhead\" d=\"M750.0,91.5 L758.0,79.5 742.0,79.5\" fill=\"currentColor\"/>\n",
       "</g>\n",
       "</svg></span>"
      ],
      "text/plain": [
       "<IPython.core.display.HTML object>"
      ]
     },
     "metadata": {},
     "output_type": "display_data"
    },
    {
     "name": "stdout",
     "output_type": "stream",
     "text": [
      "aux: auxiliary\n",
      "PROPN: proper noun\n",
      "amod: adjectival modifier\n"
     ]
    }
   ],
   "source": [
    "# doc = nlp(u\"Я хочу кислое зеленое яблоко.\")\n",
    "\n",
    "# displacy.render(doc, style='dep', jupyter=True)\n",
    "doc = nlp(\"Я хочу уйти спать пораньше.\")\n",
    "displacy.render(doc, style='dep', jupyter=True)\n",
    "\n",
    "# Для расшифровки названий тегов можно воспользоваться функций explain:\n",
    "print(\"aux:\", sp.explain(\"aux\"))\n",
    "print(\"PROPN:\", sp.explain(\"PROPN\"))\n",
    "print(\"amod:\", sp.explain(\"amod\"))"
   ]
  },
  {
   "cell_type": "code",
   "execution_count": 15,
   "metadata": {},
   "outputs": [
    {
     "name": "stdout",
     "output_type": "stream",
     "text": [
      "Ладожской LOC\n",
      "Артем PER\n"
     ]
    },
    {
     "data": {
      "text/html": [
       "<span class=\"tex2jax_ignore\"><div class=\"entities\" style=\"line-height: 2.5; direction: ltr\">Скоро будет дождь в \n",
       "<mark class=\"entity\" style=\"background: #ff9561; padding: 0.45em 0.6em; margin: 0 0.25em; line-height: 1; border-radius: 0.35em;\">\n",
       "    Ладожской\n",
       "    <span style=\"font-size: 0.8em; font-weight: bold; line-height: 1; border-radius: 0.35em; vertical-align: middle; margin-left: 0.5rem\">LOC</span>\n",
       "</mark>\n",
       ". \n",
       "<mark class=\"entity\" style=\"background: #ddd; padding: 0.45em 0.6em; margin: 0 0.25em; line-height: 1; border-radius: 0.35em;\">\n",
       "    Артем\n",
       "    <span style=\"font-size: 0.8em; font-weight: bold; line-height: 1; border-radius: 0.35em; vertical-align: middle; margin-left: 0.5rem\">PER</span>\n",
       "</mark>\n",
       ", пойдем книжку читать!</div></span>"
      ],
      "text/plain": [
       "<IPython.core.display.HTML object>"
      ]
     },
     "metadata": {},
     "output_type": "display_data"
    }
   ],
   "source": [
    "doc = nlp(u'Скоро будет дождь в Ладожской. Артем, пойдем книжку читать!')\n",
    "for ent in doc.ents:\n",
    "    print(ent.text, ent.label_)\n",
    "\n",
    "displacy.render(doc, style='ent')"
   ]
  },
  {
   "attachments": {},
   "cell_type": "markdown",
   "metadata": {},
   "source": [
    "##### 4. Создание собственных шаблонов для поиска текста"
   ]
  },
  {
   "cell_type": "code",
   "execution_count": 4,
   "metadata": {},
   "outputs": [
    {
     "data": {
      "text/html": [
       "<img src=\"picture_2.png\" width=\"500\" height=\"300\"/>"
      ],
      "text/plain": [
       "<IPython.core.display.Image object>"
      ]
     },
     "execution_count": 4,
     "metadata": {},
     "output_type": "execute_result"
    }
   ],
   "source": [
    "Image(url=\"picture_2.png\", width=500, height=300)"
   ]
  },
  {
   "attachments": {},
   "cell_type": "markdown",
   "metadata": {},
   "source": [
    "#### Попробуем создать собственный шаблон для распознавания последовательности токенов.\n",
    "\n",
    "Matcher позволяет находить слова и фразы, используя правила, описывающие их атрибуты токенов. Правила могут ссылаться на аннотаций токенов (например, теги text или part-of-speech), а также на лексические атрибуты, такие как Token."
   ]
  },
  {
   "cell_type": "code",
   "execution_count": 5,
   "metadata": {},
   "outputs": [
    {
     "name": "stdout",
     "output_type": "stream",
     "text": [
      "matches: [(16000734440979727948, 0, 4)]\n",
      "2022 Лондонский мировой хакатон\n"
     ]
    }
   ],
   "source": [
    "# объект vocab()— контейнер хранилища со словарными данными\n",
    "matcher = Matcher(nlp.vocab)\n",
    "\n",
    "# REGEX - регулярное выражение выбора\n",
    "\n",
    "pattern = [\n",
    "    {\"IS_DIGIT\": True}, \n",
    "    {\"LOWER\": \"лондонский\"},\n",
    "    {\"LOWER\": {\"REGEX\": \"(мировой|городской)\"}},\n",
    "    {\"LOWER\": \"хакатон\"},\n",
    "]\n",
    "\n",
    "matcher.add(\"Hakaton\", [pattern])\n",
    "doc = nlp(u'2022 Лондонский мировой хакатон был завершен победой команды - Лягушечки')\n",
    "\n",
    "matches = matcher(doc)\n",
    "print('matches:', matches)\n",
    "\n",
    "for match_id, start, end in matches:\n",
    "    matched_span = doc[start:end]\n",
    "    print(matched_span)"
   ]
  },
  {
   "attachments": {},
   "cell_type": "markdown",
   "metadata": {},
   "source": [
    "#### Определение семантической близости\n",
    "Два слова могут быть очень схожи по смыслу, но как измерить их близость? В подобных задачах на помощь могут прийти семантические вектора. Если два слова или многословных выражения похожи, то их вектора будут лежать близко друг к другу."
   ]
  },
  {
   "cell_type": "code",
   "execution_count": 6,
   "metadata": {},
   "outputs": [
    {
     "name": "stdout",
     "output_type": "stream",
     "text": [
      "0.7899125196385883\n",
      "0.2275083311958443\n"
     ]
    }
   ],
   "source": [
    "doc1 = nlp(\"Я люблю бургеры\")\n",
    "doc2 = nlp(\"Я люблю пиццу\")\n",
    "\n",
    "print(doc1.similarity(doc2))\n",
    "\n",
    "doc3 = nlp(\"сон\")\n",
    "doc4 = nlp(\"любовь\")\n",
    "\n",
    "print(doc3.similarity(doc4))"
   ]
  },
  {
   "attachments": {},
   "cell_type": "markdown",
   "metadata": {},
   "source": [
    "### Создание своих собственных компонентов обработки\n",
    "\n",
    "Модуль SpaCy поддерживает ряд встроенных компонентов (токенизатор, выделение именованных сущностей), но также позволяет определять свои собственные компоненты. По сути, компоненты – это последовательно вызывающиеся функции, которые принимают на вход документ, изменяют его и отдают обратно. Новые компоненты можно добавлять с помощью атрибута add_pipe:"
   ]
  },
  {
   "cell_type": "code",
   "execution_count": 7,
   "metadata": {},
   "outputs": [
    {
     "data": {
      "text/plain": [
       "' \\n@Language.factory(\\'length_component\\')\\ndef length_component(doc):\\n    doc_length = len(doc)\\n    print(f\"Этот документ имеет длину токенов {doc_length}.\")\\n    return doc\\n\\nnlp.add_pipe(\\'length_component\\', last = True)\\nprint(nlp.pipe_names)\\ndoc = nlp(\"Я не люблю вставать в понедельник в 6 утра.\")\\n'"
      ]
     },
     "execution_count": 7,
     "metadata": {},
     "output_type": "execute_result"
    }
   ],
   "source": [
    "''' \n",
    "@Language.factory('length_component')\n",
    "def length_component(doc):\n",
    "    doc_length = len(doc)\n",
    "    print(f\"Этот документ имеет длину токенов {doc_length}.\")\n",
    "    return doc\n",
    "\n",
    "nlp.add_pipe('length_component', last = True)\n",
    "print(nlp.pipe_names)\n",
    "doc = nlp(\"Я не люблю вставать в понедельник в 6 утра.\")\n",
    "'''"
   ]
  },
  {
   "attachments": {},
   "cell_type": "markdown",
   "metadata": {},
   "source": [
    "#### Обучение и обновление моделей\n",
    "\n"
   ]
  },
  {
   "cell_type": "code",
   "execution_count": 8,
   "metadata": {},
   "outputs": [
    {
     "data": {
      "text/plain": [
       "'\\nnlp = sp.blank(\"ru\")\\nner = nlp.create_pipe(\"ner\")\\nnlp.add_pipe(ner)\\nner.add_label(\"Компания\")\\nnlp.begin_training()\\n\\n\\n\\nTRAINING_DATA = [\\n    (\"Замечательный день сходить в Яблоко за кольцом\", {\"entities\": [(29, 34, \"COMPANY\")]})\\n    (\"Приготовила сегодня пирог с яблоком\", {\"entities\": []})\\n    (\"Потратила все деньги в Яблоке\", {\"entities\": [(23, 28, \"COMPANY\")]})\\n\\n]\\n\\nnlp = Russian()\\n\\nfor i in range(10):\\n    random.shuffle(TRAINING_DATA)\\n    for batch in sp.util.minibatch(TRAINING_DATA):\\n        texts = [text for text, annotation in batch]\\n        annotations = [annotation for text, annotation in batch]\\n        nlp.update(texts, annotations)\\n        \\nnlp.to_disk(\"model\")\\n\\n'"
      ]
     },
     "execution_count": 8,
     "metadata": {},
     "output_type": "execute_result"
    }
   ],
   "source": [
    "from spacy.lang.ru import Russian\n",
    "import random\n",
    "\n",
    "'''\n",
    "nlp = sp.blank(\"ru\")\n",
    "ner = nlp.create_pipe(\"ner\")\n",
    "nlp.add_pipe(ner)\n",
    "ner.add_label(\"Компания\")\n",
    "nlp.begin_training()\n",
    "\n",
    "\n",
    "\n",
    "TRAINING_DATA = [\n",
    "    (\"Замечательный день сходить в Яблоко за кольцом\", {\"entities\": [(29, 34, \"COMPANY\")]})\n",
    "    (\"Приготовила сегодня пирог с яблоком\", {\"entities\": []})\n",
    "    (\"Потратила все деньги в Яблоке\", {\"entities\": [(23, 28, \"COMPANY\")]})\n",
    "\n",
    "]\n",
    "\n",
    "nlp = Russian()\n",
    "\n",
    "for i in range(10):\n",
    "    random.shuffle(TRAINING_DATA)\n",
    "    for batch in sp.util.minibatch(TRAINING_DATA):\n",
    "        texts = [text for text, annotation in batch]\n",
    "        annotations = [annotation for text, annotation in batch]\n",
    "        nlp.update(texts, annotations)\n",
    "        \n",
    "nlp.to_disk(\"model\")\n",
    "\n",
    "'''"
   ]
  },
  {
   "cell_type": "code",
   "execution_count": 9,
   "metadata": {},
   "outputs": [
    {
     "ename": "NameError",
     "evalue": "name 'ner' is not defined",
     "output_type": "error",
     "traceback": [
      "\u001b[0;31m---------------------------------------------------------------------------\u001b[0m",
      "\u001b[0;31mNameError\u001b[0m                                 Traceback (most recent call last)",
      "\u001b[1;32m/Users/anastasia/Desktop/ML/Learn_ML/named_entities.ipynb Ячейка 15\u001b[0m in \u001b[0;36m1\n\u001b[0;32m----> <a href='vscode-notebook-cell:/Users/anastasia/Desktop/ML/Learn_ML/named_entities.ipynb#X20sZmlsZQ%3D%3D?line=0'>1</a>\u001b[0m ner\u001b[39m.\u001b[39madd_label(\u001b[39m\"\u001b[39m\u001b[39mКомпания\u001b[39m\u001b[39m\"\u001b[39m)\n\u001b[1;32m      <a href='vscode-notebook-cell:/Users/anastasia/Desktop/ML/Learn_ML/named_entities.ipynb#X20sZmlsZQ%3D%3D?line=1'>2</a>\u001b[0m nlp\u001b[39m.\u001b[39mbegin_training()\n",
      "\u001b[0;31mNameError\u001b[0m: name 'ner' is not defined"
     ]
    }
   ],
   "source": [
    "ner.add_label(\"Компания\")\n",
    "nlp.begin_training()"
   ]
  }
 ],
 "metadata": {
  "kernelspec": {
   "display_name": "Python 3",
   "language": "python",
   "name": "python3"
  },
  "language_info": {
   "codemirror_mode": {
    "name": "ipython",
    "version": 3
   },
   "file_extension": ".py",
   "mimetype": "text/x-python",
   "name": "python",
   "nbconvert_exporter": "python",
   "pygments_lexer": "ipython3",
   "version": "3.10.4"
  },
  "orig_nbformat": 4
 },
 "nbformat": 4,
 "nbformat_minor": 2
}
