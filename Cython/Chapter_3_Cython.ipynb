{
 "cells": [
  {
   "attachments": {},
   "cell_type": "markdown",
   "metadata": {},
   "source": [
    "### Использование структур данных уровня языка C библиотеки spaCy"
   ]
  },
  {
   "cell_type": "code",
   "execution_count": 14,
   "metadata": {},
   "outputs": [
    {
     "ename": "ImportError",
     "evalue": "dynamic module does not define module export function (PyInit_spacytext)",
     "output_type": "error",
     "traceback": [
      "\u001b[0;31m---------------------------------------------------------------------------\u001b[0m",
      "\u001b[0;31mImportError\u001b[0m                               Traceback (most recent call last)",
      "\u001b[1;32m/Users/anastasia/Desktop/ML/Learn_ML/Cython/Chapter_3_Cython.ipynb Ячейка 2\u001b[0m in \u001b[0;36m4\n\u001b[1;32m      <a href='vscode-notebook-cell:/Users/anastasia/Desktop/ML/Learn_ML/Cython/Chapter_3_Cython.ipynb#W5sZmlsZQ%3D%3D?line=0'>1</a>\u001b[0m \u001b[39mimport\u001b[39;00m \u001b[39mspacy\u001b[39;00m \u001b[39mas\u001b[39;00m \u001b[39msp\u001b[39;00m\n\u001b[1;32m      <a href='vscode-notebook-cell:/Users/anastasia/Desktop/ML/Learn_ML/Cython/Chapter_3_Cython.ipynb#W5sZmlsZQ%3D%3D?line=1'>2</a>\u001b[0m nlp \u001b[39m=\u001b[39m sp\u001b[39m.\u001b[39mload(\u001b[39m'\u001b[39m\u001b[39mru_core_news_lg\u001b[39m\u001b[39m'\u001b[39m)\n\u001b[0;32m----> <a href='vscode-notebook-cell:/Users/anastasia/Desktop/ML/Learn_ML/Cython/Chapter_3_Cython.ipynb#W5sZmlsZQ%3D%3D?line=3'>4</a>\u001b[0m \u001b[39mfrom\u001b[39;00m \u001b[39mspacytext\u001b[39;00m \u001b[39mimport\u001b[39;00m main\n",
      "\u001b[0;31mImportError\u001b[0m: dynamic module does not define module export function (PyInit_spacytext)"
     ]
    }
   ],
   "source": [
    "import spacy as sp\n",
    "nlp = sp.load('ru_core_news_lg')\n",
    "\n",
    "from spacytext import main\n",
    "\n",
    "\n",
    "\n"
   ]
  },
  {
   "cell_type": "code",
   "execution_count": null,
   "metadata": {},
   "outputs": [],
   "source": []
  }
 ],
 "metadata": {
  "kernelspec": {
   "display_name": "Python 3",
   "language": "python",
   "name": "python3"
  },
  "language_info": {
   "codemirror_mode": {
    "name": "ipython",
    "version": 3
   },
   "file_extension": ".py",
   "mimetype": "text/x-python",
   "name": "python",
   "nbconvert_exporter": "python",
   "pygments_lexer": "ipython3",
   "version": "3.10.4"
  },
  "orig_nbformat": 4
 },
 "nbformat": 4,
 "nbformat_minor": 2
}
